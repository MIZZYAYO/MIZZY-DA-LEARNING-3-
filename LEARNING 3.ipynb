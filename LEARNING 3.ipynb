{
 "cells": [
  {
   "cell_type": "code",
   "execution_count": null,
   "id": "e5beef87",
   "metadata": {},
   "outputs": [
    {
     "name": "stdout",
     "output_type": "stream",
     "text": [
      "         data home_team      away_team scores_id\n",
      "0  1872-11-30  Scotland        England         0\n",
      "1  1914-02-28  Scotland          Wales         0\n",
      "2  1946-11-27  Scotland  North ireland         0\n",
      "3  1963-05-08  Scotland          Spain         0\n"
     ]
    }
   ],
   "source": [
    "#MERGING DATA SETS \n",
    "\n",
    "#Creating a new dataset games \n",
    "\n",
    "\n",
    "\n",
    "import pandas as pd \n",
    "\n",
    "games = {\n",
    "    \"data\": ['1872-11-30' , '1914-02-28' , '1946-11-27' , '1963-05-08'],\n",
    "    \"home_team\": [\"Scotland\",\"Scotland\",\"Scotland\",\"Scotland\"],\n",
    "    \"away_team\" : ['England' , 'Wales' , 'North ireland' , 'Spain'],\n",
    "    \"scores_id\" : [\"0\", \"0\", \"0\", \"0\"],\n",
    "\n",
    "}\n",
    "\n",
    "games = pd.DataFrame(games)\n",
    "\n",
    "print(games)\n",
    "\n"
   ]
  },
  {
   "cell_type": "code",
   "execution_count": null,
   "id": "00fd8305",
   "metadata": {},
   "outputs": [
    {
     "name": "stdout",
     "output_type": "stream",
     "text": [
      "  id home_score away_score\n",
      "0  0          0          0\n",
      "1  1          2          1\n",
      "2  2          3          0\n",
      "3  3          4          0\n"
     ]
    }
   ],
   "source": [
    "#Creating a sub set or another dataset scores for the actual scores \n",
    "\n",
    "scores = {\n",
    "    \"id\" : ['0', '1' , '2' , '3'],\n",
    "    \"home_score\" : [\"0\", \"2\", \"3\", \"4\"],\n",
    "    \"away_score\" : [\"0\", \"1\", \"0\", \"0\"]\n",
    "\n",
    "}\n",
    "\n",
    "scores = pd.DataFrame(scores)\n",
    "\n",
    "print(scores)\n"
   ]
  },
  {
   "cell_type": "code",
   "execution_count": null,
   "id": "eed17596",
   "metadata": {},
   "outputs": [
    {
     "name": "stdout",
     "output_type": "stream",
     "text": [
      "  category  value_x  value_y\n",
      "0        B        2        3\n"
     ]
    }
   ],
   "source": [
    "#INNER MERGES \n",
    "# only merge columns with similar categories \n",
    "\n",
    "x = {\n",
    "    \"category\" : ['A', 'B'],\n",
    "    \"value\" : [ 1 , 2 ],\n",
    "    }\n",
    "\n",
    "y = {\n",
    "    \"category\" : ['B' , 'C'],\n",
    "    \"value\" : [3 , 4]\n",
    "}\n",
    "\n",
    "\n",
    "x = pd.DataFrame(x)\n",
    "y = pd.DataFrame(y)\n",
    "\n",
    "merge = pd.merge(left=x,\n",
    "                 right=y,\n",
    "                 left_on='category',\n",
    "                 right_on='category',\n",
    "                 how= 'inner'\n",
    "                 )\n",
    "\n",
    "\n",
    "print(merge)\n",
    "\n",
    "# similar category is B from X and Y \n"
   ]
  },
  {
   "cell_type": "code",
   "execution_count": null,
   "id": "7905f51c",
   "metadata": {},
   "outputs": [
    {
     "name": "stdout",
     "output_type": "stream",
     "text": [
      "  category  value_x  value_y\n",
      "0        B        2        3\n",
      "1        B        5        3\n"
     ]
    }
   ],
   "source": [
    "#MULTIPLE MATCHES  (when there are multiple matches in one dataframe)\n",
    "\n",
    "x = {\n",
    "    \"category\" : ['A', 'B' , 'B'],\n",
    "    \"value\" : [ 1 , 2 , 5],\n",
    "    }\n",
    "\n",
    "y = {\n",
    "    \"category\" : ['B' , 'C'],\n",
    "    \"value\" : [3 , 4]\n",
    "}\n",
    "\n",
    "\n",
    "x = pd.DataFrame(x)\n",
    "y = pd.DataFrame(y)\n",
    "\n",
    "merge = pd.merge(left=x,\n",
    "                 right=y,\n",
    "                 left_on='category',\n",
    "                 right_on='category',\n",
    "                 how= 'inner'\n",
    "                 )\n",
    "\n",
    "\n",
    "print(merge)\n",
    "\n",
    "# 3 was repeated for value_y because there was only one in y"
   ]
  }
 ],
 "metadata": {
  "kernelspec": {
   "display_name": "Python 3",
   "language": "python",
   "name": "python3"
  },
  "language_info": {
   "codemirror_mode": {
    "name": "ipython",
    "version": 3
   },
   "file_extension": ".py",
   "mimetype": "text/x-python",
   "name": "python",
   "nbconvert_exporter": "python",
   "pygments_lexer": "ipython3",
   "version": "3.13.7"
  }
 },
 "nbformat": 4,
 "nbformat_minor": 5
}
