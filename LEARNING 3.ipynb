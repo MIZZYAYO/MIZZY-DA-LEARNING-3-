{
 "cells": [
  {
   "cell_type": "code",
   "execution_count": 120,
   "id": "e5beef87",
   "metadata": {},
   "outputs": [
    {
     "name": "stdout",
     "output_type": "stream",
     "text": [
      "         date home_team      away_team scores_id\n",
      "0  1872-11-30  Scotland        England         0\n",
      "1  1914-02-28  Scotland          Wales         3\n",
      "2  1946-11-27  Scotland  North ireland         1\n",
      "3  1963-05-08  Scotland          Spain         2\n"
     ]
    }
   ],
   "source": [
    "#MERGING DATA SETS \n",
    "\n",
    "#Creating a new dataset games \n",
    "\n",
    "\n",
    "\n",
    "import pandas as pd \n",
    "\n",
    "games = {\n",
    "    \"date\": ['1872-11-30' , '1914-02-28' , '1946-11-27' , '1963-05-08'],\n",
    "    \"home_team\": [\"Scotland\",\"Scotland\",\"Scotland\",\"Scotland\"],\n",
    "    \"away_team\" : ['England' , 'Wales' , 'North ireland' , 'Spain'],\n",
    "    \"scores_id\" : [\"0\", \"3\", \"1\", \"2\"],\n",
    "\n",
    "}\n",
    "\n",
    "games = pd.DataFrame(games)\n",
    "\n",
    "print(games)\n",
    "\n"
   ]
  },
  {
   "cell_type": "code",
   "execution_count": 121,
   "id": "00fd8305",
   "metadata": {},
   "outputs": [
    {
     "name": "stdout",
     "output_type": "stream",
     "text": [
      "  id home_score away_score\n",
      "0  0          0          0\n",
      "1  1          2          1\n",
      "2  2          3          0\n",
      "3  3          4          0\n"
     ]
    }
   ],
   "source": [
    "#Creating a sub set or another dataset scores for the actual scores \n",
    "\n",
    "scores = {\n",
    "    \"id\" : ['0', '1' , '2' , '3'],\n",
    "    \"home_score\" : [\"0\", \"2\", \"3\", \"4\"],\n",
    "    \"away_score\" : [\"0\", \"1\", \"0\", \"0\"]\n",
    "\n",
    "}\n",
    "\n",
    "scores = pd.DataFrame(scores)\n",
    "\n",
    "print(scores)\n"
   ]
  },
  {
   "cell_type": "code",
   "execution_count": 122,
   "id": "eed17596",
   "metadata": {},
   "outputs": [
    {
     "name": "stdout",
     "output_type": "stream",
     "text": [
      "  category  value_x  value_y\n",
      "0        B        2        3\n"
     ]
    }
   ],
   "source": [
    "#INNER MERGES \n",
    "# only merge columns with similar categories \n",
    "\n",
    "x = {\n",
    "    \"category\" : ['A', 'B'],\n",
    "    \"value\" : [ 1 , 2 ],\n",
    "    }\n",
    "\n",
    "y = {\n",
    "    \"category\" : ['B' , 'C'],\n",
    "    \"value\" : [3 , 4]\n",
    "}\n",
    "\n",
    "\n",
    "x = pd.DataFrame(x)\n",
    "y = pd.DataFrame(y)\n",
    "\n",
    "merge = pd.merge(left=x,\n",
    "                 right=y,\n",
    "                 left_on='category',\n",
    "                 right_on='category',\n",
    "                 how= 'inner'\n",
    "                 )\n",
    "\n",
    "\n",
    "print(merge)\n",
    "\n",
    "# similar category is B from X and Y \n"
   ]
  },
  {
   "cell_type": "code",
   "execution_count": 123,
   "id": "7905f51c",
   "metadata": {},
   "outputs": [
    {
     "name": "stdout",
     "output_type": "stream",
     "text": [
      "  category  value_x  value_y\n",
      "0        B        2        3\n",
      "1        B        5        3\n"
     ]
    }
   ],
   "source": [
    "#MULTIPLE MATCHES  (when there are multiple matches in one dataframe)\n",
    "\n",
    "x = {\n",
    "    \"category\" : ['A', 'B' , 'B'],\n",
    "    \"value\" : [ 1 , 2 , 5],\n",
    "    }\n",
    "\n",
    "y = {\n",
    "    \"category\" : ['B' , 'C'],\n",
    "    \"value\" : [3 , 4]\n",
    "}\n",
    "\n",
    "\n",
    "x = pd.DataFrame(x)\n",
    "y = pd.DataFrame(y)\n",
    "\n",
    "merge = pd.merge(left=x,\n",
    "                 right=y,\n",
    "                 left_on='category',\n",
    "                 right_on='category',\n",
    "                 how= 'inner'\n",
    "                 )\n",
    "\n",
    "\n",
    "print(merge)\n",
    "\n",
    "# 3 was repeated for value_y because there was only one in y"
   ]
  },
  {
   "cell_type": "code",
   "execution_count": 124,
   "id": "d322df5e",
   "metadata": {},
   "outputs": [
    {
     "name": "stdout",
     "output_type": "stream",
     "text": [
      "         date home_team      away_team scores_id id home_score away_score\n",
      "0  1872-11-30  Scotland        England         0  0          0          0\n",
      "1  1914-02-28  Scotland          Wales         3  3          4          0\n",
      "2  1946-11-27  Scotland  North ireland         1  1          2          1\n",
      "3  1963-05-08  Scotland          Spain         2  2          3          0\n"
     ]
    }
   ],
   "source": [
    "# Using games and scores dataframes \n",
    "\n",
    "merge2 = pd.merge(left=games,\n",
    "                 right=scores,\n",
    "                 left_on='scores_id',\n",
    "                 right_on='id',\n",
    "                 how= 'inner'\n",
    "                 )\n",
    "\n",
    "\n",
    "print(merge2)\n",
    "\n",
    "\n",
    "# Gives you the full results \n"
   ]
  },
  {
   "cell_type": "code",
   "execution_count": 125,
   "id": "dbf3d9e8",
   "metadata": {},
   "outputs": [
    {
     "name": "stdout",
     "output_type": "stream",
     "text": [
      "  category  value_x  value_y\n",
      "0        A        1      NaN\n",
      "1        B        2      3.0\n",
      "2        B        5      3.0\n"
     ]
    }
   ],
   "source": [
    "#LEFT MERGES \n",
    "# Using X and Y dataframes \n",
    "\n",
    "merge3 = pd.merge(left=x,\n",
    "                 right=y,\n",
    "                 left_on='category',\n",
    "                 right_on='category',\n",
    "                 how= 'left'   #for left merge \n",
    "                 )\n",
    "\n",
    "\n",
    "print(merge3)\n",
    "\n",
    "# 3.0 because of the NaN which is not an integer value so pandas converts the whole column to a float  \n"
   ]
  },
  {
   "cell_type": "code",
   "execution_count": 126,
   "id": "2aec3104",
   "metadata": {},
   "outputs": [
    {
     "name": "stdout",
     "output_type": "stream",
     "text": [
      "  category  value_x  value_y\n",
      "0        B      2.0        3\n",
      "1        B      5.0        3\n",
      "2        C      NaN        4\n"
     ]
    }
   ],
   "source": [
    "#RIGHT MERGES \n",
    "# Same as left but uses the categories from the right for the merge \n",
    "\n",
    "merge4 = pd.merge(left=x,\n",
    "                 right=y,\n",
    "                 left_on='category',\n",
    "                 right_on='category',\n",
    "                 how= 'right'   #for right merge \n",
    "                 )\n",
    "\n",
    "\n",
    "print(merge4)"
   ]
  },
  {
   "cell_type": "code",
   "execution_count": 127,
   "id": "dcf55a8a",
   "metadata": {},
   "outputs": [
    {
     "name": "stdout",
     "output_type": "stream",
     "text": [
      "  category  value_x  value_y\n",
      "0        A      1.0      NaN\n",
      "1        B      2.0      3.0\n",
      "2        B      5.0      3.0\n",
      "3        C      NaN      4.0\n"
     ]
    }
   ],
   "source": [
    "#OUTER MERGE \n",
    "# does for both sides ...uses the category of both sides \n",
    "#Example using X and Y \n",
    "\n",
    "merge5 = pd.merge(left=x,\n",
    "                 right=y,\n",
    "                 left_on='category',\n",
    "                 right_on='category',\n",
    "                 how= 'outer'   #for outer merge \n",
    "                 )\n",
    "\n",
    "\n",
    "print(merge5)\n",
    "\n",
    "# calls out all the categories \n"
   ]
  },
  {
   "cell_type": "code",
   "execution_count": 128,
   "id": "d11ebff0",
   "metadata": {},
   "outputs": [
    {
     "name": "stdout",
     "output_type": "stream",
     "text": [
      "         date    home_team         away_team       winner\n",
      "0  1967-08-22        India            Taiwan       taiwan\n",
      "1  1971-11-14  South Korea  Vietnam Republic  South Korea\n",
      "2  1972-05-07  South Korea              Iraq         Iraq\n",
      "3  1972-05-17     Thailand              Iraq  South Korea\n"
     ]
    }
   ],
   "source": [
    "#MULTIPLE COLUMNS \n",
    "# Basically choosing each columns from dataframe A i want to merge to dataframe B columns and also C columns \n",
    "# Still using games and scores dataframes\n",
    "\n",
    "#Creating new dataframe shootouts\n",
    "\n",
    "\n",
    "shootouts = {\n",
    "    \"date\": ['1967-08-22' , '1971-11-14' , '1972-05-07' , '1972-05-17'],\n",
    "    \"home_team\": [\"India\",\"South Korea\",\"South Korea\",\"Thailand\"],\n",
    "    \"away_team\" : ['Taiwan' , 'Vietnam Republic' , 'Iraq' , 'Iraq'],\n",
    "    \"winner\" : [\"taiwan\", \"South Korea\", \"Iraq\", \"South Korea\"],\n",
    "\n",
    "}\n",
    "\n",
    "shootouts = pd.DataFrame(shootouts)\n",
    "\n",
    "print(shootouts)\n"
   ]
  },
  {
   "cell_type": "code",
   "execution_count": null,
   "id": "eaca15c5",
   "metadata": {},
   "outputs": [
    {
     "name": "stdout",
     "output_type": "stream",
     "text": [
      "         date home_team_x    away_team_x scores_id  home_team_y  \\\n",
      "0  1872-11-30    Scotland        England         0          NaN   \n",
      "1  1914-02-28    Scotland          Wales         3          NaN   \n",
      "2  1946-11-27    Scotland  North ireland         1          NaN   \n",
      "3  1963-05-08    Scotland          Spain         2          NaN   \n",
      "4  1967-08-22         NaN            NaN       NaN        India   \n",
      "5  1971-11-14         NaN            NaN       NaN  South Korea   \n",
      "6  1972-05-07         NaN            NaN       NaN  South Korea   \n",
      "7  1972-05-17         NaN            NaN       NaN     Thailand   \n",
      "\n",
      "        away_team_y       winner  \n",
      "0               NaN          NaN  \n",
      "1               NaN          NaN  \n",
      "2               NaN          NaN  \n",
      "3               NaN          NaN  \n",
      "4            Taiwan       taiwan  \n",
      "5  Vietnam Republic  South Korea  \n",
      "6              Iraq         Iraq  \n",
      "7              Iraq  South Korea  \n"
     ]
    }
   ],
   "source": [
    "#Merging them \n",
    "\n",
    "merge6 = pd.merge(\n",
    "    left=games,\n",
    "    right=shootouts,\n",
    "    left_on=['date', 'home_team'],     # home team from games\n",
    "    right_on=['date', 'away_team'],    # away team from shootouts\n",
    "    how='outer'\n",
    ")\n",
    "\n",
    "#merging (home team vs away team) \n",
    "\n",
    "\n",
    "print(merge6)"
   ]
  },
  {
   "cell_type": "code",
   "execution_count": null,
   "id": "418b8aa2",
   "metadata": {},
   "outputs": [],
   "source": [
    "#CHOOSING THE RIGHT MERGE METHOD \n",
    "\n",
    "# to inspect a dataframe thoroughly it is better to use LEFT , RIGHT & OUTER MERGE\n"
   ]
  }
 ],
 "metadata": {
  "kernelspec": {
   "display_name": "Python 3",
   "language": "python",
   "name": "python3"
  },
  "language_info": {
   "codemirror_mode": {
    "name": "ipython",
    "version": 3
   },
   "file_extension": ".py",
   "mimetype": "text/x-python",
   "name": "python",
   "nbconvert_exporter": "python",
   "pygments_lexer": "ipython3",
   "version": "3.13.7"
  }
 },
 "nbformat": 4,
 "nbformat_minor": 5
}
